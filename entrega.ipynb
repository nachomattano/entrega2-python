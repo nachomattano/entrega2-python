{
 "cells": [
  {
   "cell_type": "markdown",
   "id": "214dc27c",
   "metadata": {},
   "source": [
    "Entrega Practica 2"
   ]
  },
  {
   "cell_type": "code",
   "execution_count": 1,
   "id": "d288d924-9ed3-4d55-8648-8b1d84fb7d58",
   "metadata": {},
   "outputs": [
    {
     "name": "stdout",
     "output_type": "stream",
     "text": [
      "El goleador es: CAROLINA con 14 goles\n",
      "El jugador mas influyente es: CAROLINA\n",
      "El promedio de goles por partido del equipo es de: 2.84\n",
      "El promedio de goles por partido del goleador es de: 0.56\n"
     ]
    }
   ],
   "source": [
    "import hockey\n",
    "\n",
    "names = \"\"\" Agustin, Yanina, Andrés, Ariadna, Bautista, CAROLINA, CESAR, David, Diego, Dolores, DYLAN, ELIANA, Emanuel, Fabián, Noelia, Francsica', FEDERICO, Fernanda, GONZALO, Nancy \"\"\"\n",
    "goals = [0, 10, 4, 0, 5, 14, 0, 0, 7, 2, 1, 1, 1, 5, 6, 1, 1, 2, 0, 11]\n",
    "goals_avoided = [0, 2, 0, 0, 5, 2, 0, 0, 1, 2, 0, 5, 5, 0, 1, 0, 2, 3, 0, 0]\n",
    "assists = [0, 5, 1, 0, 5, 2, 0, 0, 1, 2, 1, 5, 5, 0, 1, 0, 2, 3, 1, 0]\n",
    "\n",
    "stats = hockey.generate_stats(names, goals, goals_avoided, assists)\n",
    "\n",
    "maxscorer_name, maxscorer_goals = hockey.max_scorer(stats)\n",
    "\n",
    "print(f\"El goleador es: {maxscorer_name} con {maxscorer_goals} goles\")\n",
    "print(f\"El jugador mas influyente es: {hockey.most_influential(stats)}\")\n",
    "print(f\"El promedio de goles por partido del equipo es de: {hockey.average_goals(goals)}\")\n",
    "print(f\"El promedio de goles por partido del goleador es de: {hockey.average_goals_max_scorer(maxscorer_goals)}\")"
   ]
  }
 ],
 "metadata": {
  "kernelspec": {
   "display_name": "Python 3 (ipykernel)",
   "language": "python",
   "name": "python3"
  },
  "language_info": {
   "codemirror_mode": {
    "name": "ipython",
    "version": 3
   },
   "file_extension": ".py",
   "mimetype": "text/x-python",
   "name": "python",
   "nbconvert_exporter": "python",
   "pygments_lexer": "ipython3",
   "version": "3.11.1"
  }
 },
 "nbformat": 4,
 "nbformat_minor": 5
}
